{
 "cells": [
  {
   "cell_type": "markdown",
   "metadata": {},
   "source": [
    "# 📊 Analyse des données drones\n",
    "## MongoDB Aggregation Queries\n",
    "\n",
    "Ce notebook exécute les 7 requêtes demandées dans le TP noté."
   ]
  },
  {
   "cell_type": "code",
   "execution_count": 1,
   "metadata": {},
   "outputs": [],
   "source": [
    "# 🔌 Connexion MongoDB\n",
    "from pymongo import MongoClient\n",
    "\n",
    "client = MongoClient(\"mongodb://localhost:27017\")\n",
    "db = client[\"soubieux_giraudon_drones\"]"
   ]
  },
  {
   "cell_type": "code",
   "execution_count": 2,
   "metadata": {},
   "outputs": [],
   "source": [
    "# 📥 Import des fonctions d'agrégation\n",
    "from src.aggregations import (\n",
    "    q1_temp_hourly,\n",
    "    q2_last_measure_by_drone,\n",
    "    q3_last5_models,\n",
    "    q4_count_by_manufacturer,\n",
    "    q5_near_montsouris,\n",
    "    q6_pm25_avg_active,\n",
    "    q7_last_per_active_drone\n",
    ")"
   ]
  },
  {
   "cell_type": "markdown",
   "metadata": {},
   "source": [
    "## 🔎 Q1 : Température moyenne horaire (dernières 12h)"
   ]
  },
  {
   "cell_type": "code",
   "execution_count": 3,
   "metadata": {},
   "outputs": [
    {
     "data": {
      "text/plain": [
       "[{'_id': 10, 'avgTemp': 22.44417172593235},\n",
       " {'_id': 12, 'avgTemp': 22.585416666666667}]"
      ]
     },
     "execution_count": 3,
     "metadata": {},
     "output_type": "execute_result"
    }
   ],
   "source": [
    "q1_temp_hourly()"
   ]
  },
  {
   "cell_type": "markdown",
   "metadata": {},
   "source": [
    "## 🔎 Q2 : Dernière mesure par drone"
   ]
  },
  {
   "cell_type": "code",
   "execution_count": 4,
   "metadata": {},
   "outputs": [
    {
     "data": {
      "text/plain": [
       "[{'_id': 'drone-002',\n",
       "  'last_measure': {'timestamp': datetime.datetime(2025, 6, 3, 12, 34, 4, 639000),\n",
       "   'drone_id': 'drone-002',\n",
       "   '_id': ObjectId('683eebbcb8011445805fa657'),\n",
       "   'location': {'type': 'Point',\n",
       "    'coordinates': [2.317625802189131, 48.893889142897315]},\n",
       "   'humidity': 58.36,\n",
       "   'temperature': 22.48,\n",
       "   'pollution': {'pm25': 13.86, 'pm10': 57.79}}},\n",
       " {'_id': 'drone-008',\n",
       "  'last_measure': {'timestamp': datetime.datetime(2025, 6, 3, 12, 34, 4, 640000),\n",
       "   'drone_id': 'drone-008',\n",
       "   'location': {'type': 'Point',\n",
       "    'coordinates': [2.4072518383403407, 48.85856581617054]},\n",
       "   'humidity': 89.73,\n",
       "   'pollution': {'pm25': 44.51, 'pm10': 49.39},\n",
       "   '_id': ObjectId('683eebbcb8011445805fa65d'),\n",
       "   'temperature': 18.99}},\n",
       " {'_id': 'drone-004',\n",
       "  'last_measure': {'timestamp': datetime.datetime(2025, 6, 3, 12, 34, 4, 639000),\n",
       "   'drone_id': 'drone-004',\n",
       "   'pollution': {'pm25': 39.17, 'pm10': 62.66},\n",
       "   'humidity': 38.53,\n",
       "   'location': {'type': 'Point',\n",
       "    'coordinates': [2.354581559992079, 48.87537788381498]},\n",
       "   'temperature': 23.46,\n",
       "   '_id': ObjectId('683eebbcb8011445805fa659')}},\n",
       " {'_id': 'drone-003',\n",
       "  'last_measure': {'timestamp': datetime.datetime(2025, 6, 3, 12, 34, 4, 639000),\n",
       "   'drone_id': 'drone-003',\n",
       "   '_id': ObjectId('683eebbcb8011445805fa658'),\n",
       "   'location': {'type': 'Point',\n",
       "    'coordinates': [2.3017021623385303, 48.88200503540639]},\n",
       "   'humidity': 57.95,\n",
       "   'temperature': 20.74,\n",
       "   'pollution': {'pm25': 18.16, 'pm10': 59.24}}},\n",
       " {'_id': 'drone-006',\n",
       "  'last_measure': {'timestamp': datetime.datetime(2025, 6, 3, 12, 34, 4, 640000),\n",
       "   'drone_id': 'drone-006',\n",
       "   'location': {'type': 'Point',\n",
       "    'coordinates': [2.3639141865192506, 48.87538543249967]},\n",
       "   'humidity': 44.94,\n",
       "   'pollution': {'pm25': 43.85, 'pm10': 61.63},\n",
       "   '_id': ObjectId('683eebbcb8011445805fa65b'),\n",
       "   'temperature': 15.62}},\n",
       " {'_id': 'drone-007',\n",
       "  'last_measure': {'timestamp': datetime.datetime(2025, 6, 3, 12, 34, 4, 640000),\n",
       "   'drone_id': 'drone-007',\n",
       "   'temperature': 26.04,\n",
       "   'location': {'type': 'Point',\n",
       "    'coordinates': [2.3150515356060604, 48.89062740238001]},\n",
       "   'humidity': 89.56,\n",
       "   '_id': ObjectId('683eebbcb8011445805fa65c'),\n",
       "   'pollution': {'pm25': 24.43, 'pm10': 47.71}}},\n",
       " {'_id': 'drone-005',\n",
       "  'last_measure': {'timestamp': datetime.datetime(2025, 6, 3, 12, 34, 4, 640000),\n",
       "   'drone_id': 'drone-005',\n",
       "   'pollution': {'pm25': 24.36, 'pm10': 97.16},\n",
       "   'humidity': 64.76,\n",
       "   'location': {'type': 'Point',\n",
       "    'coordinates': [2.320418175042581, 48.858131696799056]},\n",
       "   'temperature': 22.39,\n",
       "   '_id': ObjectId('683eebbcb8011445805fa65a')}},\n",
       " {'_id': 'drone-001',\n",
       "  'last_measure': {'timestamp': datetime.datetime(2025, 6, 3, 12, 34, 4, 639000),\n",
       "   'drone_id': 'drone-001',\n",
       "   'temperature': 23.95,\n",
       "   'location': {'type': 'Point',\n",
       "    'coordinates': [2.3970778750112207, 48.890283460701134]},\n",
       "   'humidity': 49.63,\n",
       "   '_id': ObjectId('683eebbcb8011445805fa656'),\n",
       "   'pollution': {'pm25': 6.31, 'pm10': 84.59}}}]"
      ]
     },
     "execution_count": 4,
     "metadata": {},
     "output_type": "execute_result"
    }
   ],
   "source": [
    "q2_last_measure_by_drone()"
   ]
  },
  {
   "cell_type": "markdown",
   "metadata": {},
   "source": [
    "## 🔎 Q3 : Modèle des 5 dernières mesures"
   ]
  },
  {
   "cell_type": "code",
   "execution_count": 5,
   "metadata": {},
   "outputs": [
    {
     "data": {
      "text/plain": [
       "[{'timestamp': datetime.datetime(2025, 6, 3, 12, 34, 4, 640000),\n",
       "  '_id': ObjectId('683eebbcb8011445805fa65d'),\n",
       "  'model': 'Autel EVO Nano+'},\n",
       " {'timestamp': datetime.datetime(2025, 6, 3, 12, 34, 4, 640000),\n",
       "  '_id': ObjectId('683eebbcb8011445805fa65c'),\n",
       "  'model': 'DJI Air 3'},\n",
       " {'timestamp': datetime.datetime(2025, 6, 3, 12, 34, 4, 640000),\n",
       "  '_id': ObjectId('683eebbcb8011445805fa65a'),\n",
       "  'model': 'DJI Phantom 4 Pro V2.0'},\n",
       " {'timestamp': datetime.datetime(2025, 6, 3, 12, 34, 4, 640000),\n",
       "  '_id': ObjectId('683eebbcb8011445805fa65b'),\n",
       "  'model': 'Yuneec Typhoon H Plus'},\n",
       " {'timestamp': datetime.datetime(2025, 6, 3, 12, 34, 4, 639000),\n",
       "  '_id': ObjectId('683eebbcb8011445805fa656'),\n",
       "  'model': 'DJI Mavic Air 2'}]"
      ]
     },
     "execution_count": 5,
     "metadata": {},
     "output_type": "execute_result"
    }
   ],
   "source": [
    "q3_last5_models()"
   ]
  },
  {
   "cell_type": "markdown",
   "metadata": {},
   "source": [
    "## 🔎 Q4 : Nombre de mesures par fabricant"
   ]
  },
  {
   "cell_type": "code",
   "execution_count": 6,
   "metadata": {},
   "outputs": [
    {
     "data": {
      "text/plain": [
       "[{'_id': 'Skydio', 'count': 159},\n",
       " {'_id': 'Parrot', 'count': 159},\n",
       " {'_id': 'DJI', 'count': 478},\n",
       " {'_id': 'Autel Robotics', 'count': 318},\n",
       " {'_id': 'Yuneec', 'count': 159}]"
      ]
     },
     "execution_count": 6,
     "metadata": {},
     "output_type": "execute_result"
    }
   ],
   "source": [
    "q4_count_by_manufacturer()"
   ]
  },
  {
   "cell_type": "markdown",
   "metadata": {},
   "source": [
    "## 🔎 Q5 : Nombre de mesures autour du Parc Montsouris (3km)"
   ]
  },
  {
   "cell_type": "code",
   "execution_count": 7,
   "metadata": {},
   "outputs": [
    {
     "data": {
      "text/plain": [
       "236"
      ]
     },
     "execution_count": 7,
     "metadata": {},
     "output_type": "execute_result"
    }
   ],
   "source": [
    "q5_near_montsouris()"
   ]
  },
  {
   "cell_type": "markdown",
   "metadata": {},
   "source": [
    "## 🔎 Q6 : Moyenne PM2.5 des drones actifs uniquement"
   ]
  },
  {
   "cell_type": "code",
   "execution_count": 8,
   "metadata": {},
   "outputs": [
    {
     "data": {
      "text/plain": [
       "[{'_id': 'drone-001', 'avg_pm25': 24.5185},\n",
       " {'_id': 'drone-002', 'avg_pm25': 28.04025157232704},\n",
       " {'_id': 'drone-005', 'avg_pm25': 28.021132075471694},\n",
       " {'_id': 'drone-008', 'avg_pm25': 25.606477987421382},\n",
       " {'_id': 'drone-004', 'avg_pm25': 27.69591194968553},\n",
       " {'_id': 'drone-007', 'avg_pm25': 26.531509433962267}]"
      ]
     },
     "execution_count": 8,
     "metadata": {},
     "output_type": "execute_result"
    }
   ],
   "source": [
    "q6_pm25_avg_active()"
   ]
  },
  {
   "cell_type": "markdown",
   "metadata": {},
   "source": [
    "## 🔎 Q7 : Dernière donnée par drone actif"
   ]
  },
  {
   "cell_type": "code",
   "execution_count": 9,
   "metadata": {},
   "outputs": [
    {
     "data": {
      "text/plain": [
       "[{'_id': 'drone-005',\n",
       "  'last_data': {'timestamp': datetime.datetime(2025, 6, 3, 12, 34, 4, 640000),\n",
       "   'drone_id': 'drone-005',\n",
       "   'pollution': {'pm25': 24.36, 'pm10': 97.16},\n",
       "   'humidity': 64.76,\n",
       "   'location': {'type': 'Point',\n",
       "    'coordinates': [2.320418175042581, 48.858131696799056]},\n",
       "   'temperature': 22.39,\n",
       "   '_id': ObjectId('683eebbcb8011445805fa65a'),\n",
       "   'drone_info': {'_id': ObjectId('683eeb74b8011445805fa5e2'),\n",
       "    'drone_id': 'drone-005',\n",
       "    'model': 'DJI Phantom 4 Pro V2.0',\n",
       "    'manufacturer': 'DJI',\n",
       "    'battery_capacity_mAh': 5870,\n",
       "    'deployment_zone': 'La DÃ©fense',\n",
       "    'active': True}}},\n",
       " {'_id': 'drone-001',\n",
       "  'last_data': {'timestamp': datetime.datetime(2025, 6, 3, 12, 34, 4, 639000),\n",
       "   'drone_id': 'drone-001',\n",
       "   'temperature': 23.95,\n",
       "   'location': {'type': 'Point',\n",
       "    'coordinates': [2.3970778750112207, 48.890283460701134]},\n",
       "   'humidity': 49.63,\n",
       "   '_id': ObjectId('683eebbcb8011445805fa656'),\n",
       "   'pollution': {'pm25': 6.31, 'pm10': 84.59},\n",
       "   'drone_info': {'_id': ObjectId('683eeb74b8011445805fa5de'),\n",
       "    'drone_id': 'drone-001',\n",
       "    'model': 'DJI Mavic Air 2',\n",
       "    'manufacturer': 'DJI',\n",
       "    'battery_capacity_mAh': 3500,\n",
       "    'deployment_zone': 'Nord-Paris',\n",
       "    'active': True}}},\n",
       " {'_id': 'drone-008',\n",
       "  'last_data': {'timestamp': datetime.datetime(2025, 6, 3, 12, 34, 4, 640000),\n",
       "   'drone_id': 'drone-008',\n",
       "   'location': {'type': 'Point',\n",
       "    'coordinates': [2.4072518383403407, 48.85856581617054]},\n",
       "   'humidity': 89.73,\n",
       "   'pollution': {'pm25': 44.51, 'pm10': 49.39},\n",
       "   '_id': ObjectId('683eebbcb8011445805fa65d'),\n",
       "   'temperature': 18.99,\n",
       "   'drone_info': {'_id': ObjectId('683eeb74b8011445805fa5e5'),\n",
       "    'drone_id': 'drone-008',\n",
       "    'model': 'Autel EVO Nano+',\n",
       "    'manufacturer': 'Autel Robotics',\n",
       "    'battery_capacity_mAh': 2250,\n",
       "    'deployment_zone': 'Parc de Sceaux',\n",
       "    'active': True}}},\n",
       " {'_id': 'drone-002',\n",
       "  'last_data': {'timestamp': datetime.datetime(2025, 6, 3, 12, 34, 4, 639000),\n",
       "   'drone_id': 'drone-002',\n",
       "   '_id': ObjectId('683eebbcb8011445805fa657'),\n",
       "   'location': {'type': 'Point',\n",
       "    'coordinates': [2.317625802189131, 48.893889142897315]},\n",
       "   'humidity': 58.36,\n",
       "   'temperature': 22.48,\n",
       "   'pollution': {'pm25': 13.86, 'pm10': 57.79},\n",
       "   'drone_info': {'_id': ObjectId('683eeb74b8011445805fa5df'),\n",
       "    'drone_id': 'drone-002',\n",
       "    'model': 'Parrot Anafi',\n",
       "    'manufacturer': 'Parrot',\n",
       "    'battery_capacity_mAh': 2700,\n",
       "    'deployment_zone': 'Sud-Paris',\n",
       "    'active': True}}},\n",
       " {'_id': 'drone-004',\n",
       "  'last_data': {'timestamp': datetime.datetime(2025, 6, 3, 12, 34, 4, 639000),\n",
       "   'drone_id': 'drone-004',\n",
       "   'pollution': {'pm25': 39.17, 'pm10': 62.66},\n",
       "   'humidity': 38.53,\n",
       "   'location': {'type': 'Point',\n",
       "    'coordinates': [2.354581559992079, 48.87537788381498]},\n",
       "   'temperature': 23.46,\n",
       "   '_id': ObjectId('683eebbcb8011445805fa659'),\n",
       "   'drone_info': {'_id': ObjectId('683eeb74b8011445805fa5e1'),\n",
       "    'drone_id': 'drone-004',\n",
       "    'model': 'Autel EVO Lite+',\n",
       "    'manufacturer': 'Autel Robotics',\n",
       "    'battery_capacity_mAh': 6175,\n",
       "    'deployment_zone': 'Est-Paris',\n",
       "    'active': True}}},\n",
       " {'_id': 'drone-007',\n",
       "  'last_data': {'timestamp': datetime.datetime(2025, 6, 3, 12, 34, 4, 640000),\n",
       "   'drone_id': 'drone-007',\n",
       "   'temperature': 26.04,\n",
       "   'location': {'type': 'Point',\n",
       "    'coordinates': [2.3150515356060604, 48.89062740238001]},\n",
       "   'humidity': 89.56,\n",
       "   '_id': ObjectId('683eebbcb8011445805fa65c'),\n",
       "   'pollution': {'pm25': 24.43, 'pm10': 47.71},\n",
       "   'drone_info': {'_id': ObjectId('683eeb74b8011445805fa5e4'),\n",
       "    'drone_id': 'drone-007',\n",
       "    'model': 'DJI Air 3',\n",
       "    'manufacturer': 'DJI',\n",
       "    'battery_capacity_mAh': 4241,\n",
       "    'deployment_zone': 'Montmartre',\n",
       "    'active': True}}}]"
      ]
     },
     "execution_count": 9,
     "metadata": {},
     "output_type": "execute_result"
    }
   ],
   "source": [
    "q7_last_per_active_drone()"
   ]
  }
 ],
 "metadata": {
  "kernelspec": {
   "display_name": ".venv",
   "language": "python",
   "name": "python3"
  },
  "language_info": {
   "codemirror_mode": {
    "name": "ipython",
    "version": 3
   },
   "file_extension": ".py",
   "mimetype": "text/x-python",
   "name": "python",
   "nbconvert_exporter": "python",
   "pygments_lexer": "ipython3",
   "version": "3.13.3"
  }
 },
 "nbformat": 4,
 "nbformat_minor": 4
}
